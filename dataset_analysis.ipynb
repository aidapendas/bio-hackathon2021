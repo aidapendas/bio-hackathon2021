{
 "cells": [
  {
   "cell_type": "code",
   "execution_count": 1,
   "id": "7a9c9747",
   "metadata": {},
   "outputs": [],
   "source": [
    "import numpy as np\n",
    "import pandas as pd\n",
    "import matplotlib.pyplot as plt\n",
    "\n",
    "import tensorflow as tf\n",
    "from tensorflow.keras.utils import to_categorical\n",
    "from sklearn.model_selection import train_test_split"
   ]
  },
  {
   "cell_type": "code",
   "execution_count": 2,
   "id": "0244aef7",
   "metadata": {},
   "outputs": [],
   "source": [
    "dic_aa2int = {'A' : 1,\n",
    "              'R' : 2,\n",
    "              'N' : 3,\n",
    "              'D' : 4,\n",
    "              'C' : 5,\n",
    "              'Q' : 6,\n",
    "              'E' : 7,\n",
    "              'G' : 8,\n",
    "              'H' : 9,\n",
    "              'I' : 10,\n",
    "              'L' : 11,\n",
    "              'K' : 12,\n",
    "              'M' : 13,\n",
    "              'F' : 14,\n",
    "              'P' : 15,\n",
    "              'S' : 16,\n",
    "              'T' : 17,\n",
    "              'W' : 18,\n",
    "              'Y' : 19,\n",
    "              'V' : 20,\n",
    "              'X' : 0,\n",
    "              '-' : 0,\n",
    "              '*' : 0,\n",
    "              '?' : 0}\n",
    "\n",
    "def aa2int(seq : str) -> list:\n",
    "    return [dic_aa2int[i] for i in seq]\n",
    "\n",
    "def aa2onehot(list_of_sequences, chain_type = None):\n",
    "    if chain_type == 'heavyChain':\n",
    "        seq_len = 150\n",
    "    elif chain_type == 'lightChain':\n",
    "        seq_len = 130\n",
    "    else:\n",
    "        print('Problem with chain type...')\n",
    "        return\n",
    "    \n",
    "    n_amino = 20\n",
    "    onehot_data = np.zeros((len(list_of_sequences), seq_len, n_amino))\n",
    "    for index, seq in enumerate(list_of_sequences):  \n",
    "        output = np.zeros((seq_len, n_amino))\n",
    "        c = 0\n",
    "        for i in aa2int(seq):\n",
    "            temp = np.zeros((n_amino))\n",
    "            if i == 0:\n",
    "                output[c] = temp\n",
    "            else:\n",
    "                temp[i-1] = 1\n",
    "                output[c] = temp\n",
    "            c = c+1\n",
    "        \n",
    "        onehot_data[index] = output\n",
    "    return onehot_data"
   ]
  },
  {
   "cell_type": "code",
   "execution_count": 3,
   "id": "f25677ad",
   "metadata": {},
   "outputs": [
    {
     "data": {
      "text/html": [
       "<div>\n",
       "<style scoped>\n",
       "    .dataframe tbody tr th:only-of-type {\n",
       "        vertical-align: middle;\n",
       "    }\n",
       "\n",
       "    .dataframe tbody tr th {\n",
       "        vertical-align: top;\n",
       "    }\n",
       "\n",
       "    .dataframe thead th {\n",
       "        text-align: right;\n",
       "    }\n",
       "</style>\n",
       "<table border=\"1\" class=\"dataframe\">\n",
       "  <thead>\n",
       "    <tr style=\"text-align: right;\">\n",
       "      <th></th>\n",
       "      <th>sequence_alignment_aa_heavy</th>\n",
       "      <th>sequence_alignment_aa_light</th>\n",
       "      <th>target</th>\n",
       "    </tr>\n",
       "  </thead>\n",
       "  <tbody>\n",
       "    <tr>\n",
       "      <th>0</th>\n",
       "      <td>QIQLVQSGPELKKPGETVKISCKASGYTFTTYGMSWVKQAPGKGLK...</td>\n",
       "      <td>DVLMTQTPLSLPVSLGDQASISCRSSQSIVHSNGNTYLEWYLQKPG...</td>\n",
       "      <td>1</td>\n",
       "    </tr>\n",
       "    <tr>\n",
       "      <th>1</th>\n",
       "      <td>QVQLQQSGAELARPGASVKLSCKASGYTFTSYGISWVKQRTGQGLE...</td>\n",
       "      <td>DIVMTQSHKFMSTSVGDRVSITCKASQDVGTAVAWYQQKPGQSPKL...</td>\n",
       "      <td>1</td>\n",
       "    </tr>\n",
       "  </tbody>\n",
       "</table>\n",
       "</div>"
      ],
      "text/plain": [
       "                         sequence_alignment_aa_heavy  \\\n",
       "0  QIQLVQSGPELKKPGETVKISCKASGYTFTTYGMSWVKQAPGKGLK...   \n",
       "1  QVQLQQSGAELARPGASVKLSCKASGYTFTSYGISWVKQRTGQGLE...   \n",
       "\n",
       "                         sequence_alignment_aa_light  target  \n",
       "0  DVLMTQTPLSLPVSLGDQASISCRSSQSIVHSNGNTYLEWYLQKPG...       1  \n",
       "1  DIVMTQSHKFMSTSVGDRVSITCKASQDVGTAVAWYQQKPGQSPKL...       1  "
      ]
     },
     "execution_count": 3,
     "metadata": {},
     "output_type": "execute_result"
    }
   ],
   "source": [
    "df = pd.read_csv('HighLow_dataset.csv')\n",
    "df.drop('Unnamed: 0', axis = 1, inplace = True)\n",
    "df.head(2)"
   ]
  },
  {
   "cell_type": "code",
   "execution_count": 4,
   "id": "66879990",
   "metadata": {},
   "outputs": [],
   "source": [
    "heavy_chain = df.iloc[:,0]\n",
    "light_chain = df.iloc[:,1]\n",
    "labels = df.iloc[:,2]"
   ]
  },
  {
   "cell_type": "code",
   "execution_count": 5,
   "id": "afe6cbb6",
   "metadata": {},
   "outputs": [],
   "source": [
    "fake_heavy_chain = []\n",
    "fake_labels = np.zeros(len(labels))\n",
    "sim = 'X'*10\n",
    "\n",
    "for sequence in heavy_chain:\n",
    "    handler = sequence[10:]\n",
    "    handler = sim+handler\n",
    "    fake_heavy_chain.append(handler)\n",
    "    \n",
    "fake_heavy_chain = fake_heavy_chain"
   ]
  },
  {
   "cell_type": "code",
   "execution_count": 6,
   "id": "9e0c62c2",
   "metadata": {},
   "outputs": [],
   "source": [
    "onehot_heavy = aa2onehot(heavy_chain, chain_type = 'heavyChain')\n",
    "onehot_light = aa2onehot(light_chain, chain_type = 'lightChain')\n",
    "onehot_heavy_fake = aa2onehot(fake_heavy_chain, chain_type = 'heavyChain')"
   ]
  },
  {
   "cell_type": "code",
   "execution_count": null,
   "id": "d18b2a41",
   "metadata": {},
   "outputs": [],
   "source": [
    "Y_data = np.concatenate((labels, fake_labels))\n",
    "Hchain_train, Hchain_test, Lchain_train, Lchain_test, Y_train, Y_test = train_test_split(onehot_heavy,\n",
    "                                                                                        onehot_light,\n",
    "                                                                                         \n",
    "                                                                                        Y_data,\n",
    "                                                                                        test_size = 0.2,\n",
    "                                                                                        shuffle = True,\n",
    "                                                                                        stratify = Y_data,\n",
    "                                                                                        random_state = 11\n",
    "                                                                                        )"
   ]
  }
 ],
 "metadata": {
  "kernelspec": {
   "display_name": "Python 3",
   "language": "python",
   "name": "python3"
  },
  "language_info": {
   "codemirror_mode": {
    "name": "ipython",
    "version": 3
   },
   "file_extension": ".py",
   "mimetype": "text/x-python",
   "name": "python",
   "nbconvert_exporter": "python",
   "pygments_lexer": "ipython3",
   "version": "3.8.8"
  }
 },
 "nbformat": 4,
 "nbformat_minor": 5
}
